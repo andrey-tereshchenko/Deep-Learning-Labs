{
  "nbformat": 4,
  "nbformat_minor": 0,
  "metadata": {
    "colab": {
      "name": "Lab2.ipynb",
      "provenance": [],
      "collapsed_sections": []
    },
    "kernelspec": {
      "name": "python3",
      "display_name": "Python 3"
    }
  },
  "cells": [
    {
      "cell_type": "code",
      "metadata": {
        "id": "DfZ_raZsEMc6",
        "colab_type": "code",
        "colab": {}
      },
      "source": [
        "import cv2\n",
        "import numpy as np\n",
        "import matplotlib.pyplot as plt\n",
        "import tensorflow as tf\n",
        "import random\n",
        "\n",
        "\n",
        "def unpickle(file):\n",
        "    import pickle\n",
        "    with open(file, 'rb') as fo:\n",
        "        dict = pickle.load(fo, encoding='bytes')\n",
        "    return dict\n",
        "\n",
        "\n",
        "meta = unpickle('CIFAR-100/meta')\n",
        "train = unpickle('CIFAR-100/train')\n",
        "test = unpickle('CIFAR-100/test')\n",
        "train_data = train[b'data']\n",
        "train_data = train_data.reshape(50000, 3, 32, 32).transpose(0,2,3,1).astype(\"float32\")\n",
        "train_target = tf.one_hot(train[b'fine_labels'],100)\n",
        "test_data = test[b'data']\n",
        "test_data = test_data.reshape(10000, 3, 32, 32).transpose(0,2,3,1).astype(\"float32\")\n",
        "test_target = tf.one_hot(test[b'fine_labels'], 100)\n",
        "\n",
        "# Normalize data\n",
        "train_data = train_data / 127.5 - 1\n",
        "test_data = test_data / 127.5 - 1"
      ],
      "execution_count": 0,
      "outputs": []
    },
    {
      "cell_type": "code",
      "metadata": {
        "id": "fn3J1tdFwQYx",
        "colab_type": "code",
        "colab": {}
      },
      "source": [
        "def data_gen(data, target, batch_size=64):\n",
        "  xs = list()\n",
        "  ys = list()\n",
        "  length = len(data) - 1\n",
        "  while True:\n",
        "    while len(xs) < batch_size:\n",
        "      index = random.randint(0,length)\n",
        "      xs.append(data[index])\n",
        "      ys.append(target[index])\n",
        "    \n",
        "    xs_b = np.array(xs)\n",
        "    ys_b = np.array(ys)\n",
        "\n",
        "    xs.clear()\n",
        "    ys.clear()\n",
        "\n",
        "    yield xs_b, ys_b\n",
        "\n",
        "  "
      ],
      "execution_count": 0,
      "outputs": []
    },
    {
      "cell_type": "code",
      "metadata": {
        "id": "TrDz9R6oZduv",
        "colab_type": "code",
        "colab": {}
      },
      "source": [
        "train_data = data_gen(train_data,train_target)\n",
        "test_data = data_gen(test_data,test_target)"
      ],
      "execution_count": 0,
      "outputs": []
    },
    {
      "cell_type": "code",
      "metadata": {
        "id": "vqHl4QzVaVDu",
        "colab_type": "code",
        "colab": {
          "base_uri": "https://localhost:8080/",
          "height": 283
        },
        "outputId": "16cd4994-3044-4bb8-a9c2-b168be5d0407"
      },
      "source": [
        "plt.imshow(next(train_data)[0][0] * 0.5 + 0.5)"
      ],
      "execution_count": 47,
      "outputs": [
        {
          "output_type": "execute_result",
          "data": {
            "text/plain": [
              "<matplotlib.image.AxesImage at 0x7f2cc7e52d68>"
            ]
          },
          "metadata": {
            "tags": []
          },
          "execution_count": 47
        },
        {
          "output_type": "display_data",
          "data": {
            "image/png": "[encoded data removed]",
            "text/plain": [
              "<Figure size 432x288 with 1 Axes>"
            ]
          },
          "metadata": {
            "tags": [],
            "needs_background": "light"
          }
        }
      ]
    },
    {
      "cell_type": "code",
      "metadata": {
        "id": "ulbysLFtzGOC",
        "colab_type": "code",
        "colab": {}
      },
      "source": [
        "import cv2\n",
        "from tensorflow.keras.layers import *\n",
        "from tensorflow.keras.models import *\n",
        "\n",
        "inp = Input(shape=(32,32,3))\n",
        "net = Conv2D(32,(3,3),activation=None)(inp)\n",
        "net = BatchNormalization()(net)\n",
        "net = Activation('relu')(net)\n",
        "net = Conv2D(64,(3,3),activation=None)(net)\n",
        "net = BatchNormalization()(net)\n",
        "net = Activation('relu')(net)\n",
        "net = MaxPool2D((2,2))(net)\n",
        "\n",
        "net = Conv2D(128,(3,3),activation=None)(net)\n",
        "net = BatchNormalization()(net)\n",
        "net = Activation('relu')(net)\n",
        "net = Conv2D(256,(3,3),activation=None)(net)\n",
        "net = BatchNormalization()(net)\n",
        "net = Activation('relu')(net)\n",
        "net = MaxPool2D((2,2))(net)\n",
        "\n",
        "net = Flatten()(net)\n",
        "\n",
        "net =  Dense(128,activation=None)(net)\n",
        "net = BatchNormalization()(net)\n",
        "net = Activation('relu')(net)\n",
        "net = Dense(100, activation='softmax')(net)\n",
        "\n",
        "model = Model([inp],[net])\n",
        "model.compile(loss='categorical_crossentropy', optimizer='adam', metrics=['accuracy'])\n"
      ],
      "execution_count": 0,
      "outputs": []
    },
    {
      "cell_type": "code",
      "metadata": {
        "id": "YKGzmH0tbvO-",
        "colab_type": "code",
        "colab": {
          "base_uri": "https://localhost:8080/",
          "height": 1000
        },
        "outputId": "05d6750c-1cb2-4d8b-90bf-ac57a2494033"
      },
      "source": [
        "model.fit_generator(\n",
        "    train_data,\n",
        "    steps_per_epoch=100,\n",
        "    epochs=30,\n",
        "    validation_data=test_data,\n",
        "    validation_steps=10\n",
        ")"
      ],
      "execution_count": 53,
      "outputs": [
        {
          "output_type": "stream",
          "text": [
            "Epoch 1/30\n",
            "100/100 [==============================] - 92s 924ms/step - loss: 2.1463 - accuracy: 0.4536 - val_loss: 2.3998 - val_accuracy: 0.3781\n",
            "Epoch 2/30\n",
            "100/100 [==============================] - 93s 928ms/step - loss: 2.1059 - accuracy: 0.4517 - val_loss: 2.6203 - val_accuracy: 0.3531\n",
            "Epoch 3/30\n",
            "100/100 [==============================] - 94s 936ms/step - loss: 2.0062 - accuracy: 0.4798 - val_loss: 2.4624 - val_accuracy: 0.3938\n",
            "Epoch 4/30\n",
            "100/100 [==============================] - 93s 930ms/step - loss: 1.9139 - accuracy: 0.5016 - val_loss: 2.4608 - val_accuracy: 0.3719\n",
            "Epoch 5/30\n",
            "100/100 [==============================] - 95s 950ms/step - loss: 1.9011 - accuracy: 0.5091 - val_loss: 2.4611 - val_accuracy: 0.3891\n",
            "Epoch 6/30\n",
            "100/100 [==============================] - 95s 945ms/step - loss: 1.8249 - accuracy: 0.5241 - val_loss: 2.3888 - val_accuracy: 0.3891\n",
            "Epoch 7/30\n",
            "100/100 [==============================] - 92s 919ms/step - loss: 1.7627 - accuracy: 0.5373 - val_loss: 2.4024 - val_accuracy: 0.3672\n",
            "Epoch 8/30\n",
            "100/100 [==============================] - 92s 915ms/step - loss: 1.7392 - accuracy: 0.5527 - val_loss: 2.4159 - val_accuracy: 0.4109\n",
            "Epoch 9/30\n",
            "100/100 [==============================] - 95s 947ms/step - loss: 1.6712 - accuracy: 0.5591 - val_loss: 2.3248 - val_accuracy: 0.3906\n",
            "Epoch 10/30\n",
            "100/100 [==============================] - 95s 952ms/step - loss: 1.6218 - accuracy: 0.5789 - val_loss: 2.4323 - val_accuracy: 0.3750\n",
            "Epoch 11/30\n",
            "100/100 [==============================] - 93s 933ms/step - loss: 1.5859 - accuracy: 0.5842 - val_loss: 2.2951 - val_accuracy: 0.4297\n",
            "Epoch 12/30\n",
            "100/100 [==============================] - 93s 935ms/step - loss: 1.5188 - accuracy: 0.5958 - val_loss: 2.3989 - val_accuracy: 0.3797\n",
            "Epoch 13/30\n",
            "100/100 [==============================] - 92s 925ms/step - loss: 1.4441 - accuracy: 0.6242 - val_loss: 2.2489 - val_accuracy: 0.4031\n",
            "Epoch 14/30\n",
            "100/100 [==============================] - 92s 920ms/step - loss: 1.4343 - accuracy: 0.6178 - val_loss: 2.3607 - val_accuracy: 0.4016\n",
            "Epoch 15/30\n",
            "100/100 [==============================] - 92s 917ms/step - loss: 1.3896 - accuracy: 0.6286 - val_loss: 2.3645 - val_accuracy: 0.4297\n",
            "Epoch 16/30\n",
            "100/100 [==============================] - 93s 927ms/step - loss: 1.3418 - accuracy: 0.6478 - val_loss: 2.3022 - val_accuracy: 0.4234\n",
            "Epoch 17/30\n",
            "100/100 [==============================] - 92s 918ms/step - loss: 1.2760 - accuracy: 0.6623 - val_loss: 2.3991 - val_accuracy: 0.4094\n",
            "Epoch 18/30\n",
            "100/100 [==============================] - 93s 927ms/step - loss: 1.2356 - accuracy: 0.6691 - val_loss: 2.1458 - val_accuracy: 0.4688\n",
            "Epoch 19/30\n",
            "100/100 [==============================] - 92s 923ms/step - loss: 1.2113 - accuracy: 0.6762 - val_loss: 2.1658 - val_accuracy: 0.4484\n",
            "Epoch 20/30\n",
            "100/100 [==============================] - 90s 899ms/step - loss: 1.1492 - accuracy: 0.6920 - val_loss: 2.2934 - val_accuracy: 0.4406\n",
            "Epoch 21/30\n",
            "100/100 [==============================] - 89s 893ms/step - loss: 1.1240 - accuracy: 0.7020 - val_loss: 2.4323 - val_accuracy: 0.4016\n",
            "Epoch 22/30\n",
            "100/100 [==============================] - 88s 880ms/step - loss: 1.0472 - accuracy: 0.7181 - val_loss: 2.1456 - val_accuracy: 0.4594\n",
            "Epoch 23/30\n",
            "100/100 [==============================] - 89s 892ms/step - loss: 1.0405 - accuracy: 0.7217 - val_loss: 2.4217 - val_accuracy: 0.4047\n",
            "Epoch 24/30\n",
            "100/100 [==============================] - 87s 874ms/step - loss: 0.9606 - accuracy: 0.7383 - val_loss: 2.1198 - val_accuracy: 0.4828\n",
            "Epoch 25/30\n",
            "100/100 [==============================] - 87s 870ms/step - loss: 0.9957 - accuracy: 0.7319 - val_loss: 2.3450 - val_accuracy: 0.4328\n",
            "Epoch 26/30\n",
            "100/100 [==============================] - 87s 874ms/step - loss: 0.9446 - accuracy: 0.7480 - val_loss: 2.1789 - val_accuracy: 0.4437\n",
            "Epoch 27/30\n",
            "100/100 [==============================] - 88s 882ms/step - loss: 0.9098 - accuracy: 0.7586 - val_loss: 2.0062 - val_accuracy: 0.4625\n",
            "Epoch 28/30\n",
            "100/100 [==============================] - 88s 885ms/step - loss: 0.8517 - accuracy: 0.7755 - val_loss: 2.2195 - val_accuracy: 0.4578\n",
            "Epoch 29/30\n",
            "100/100 [==============================] - 88s 881ms/step - loss: 0.8142 - accuracy: 0.7800 - val_loss: 2.1114 - val_accuracy: 0.4391\n",
            "Epoch 30/30\n",
            "100/100 [==============================] - 90s 898ms/step - loss: 0.8128 - accuracy: 0.7869 - val_loss: 2.5137 - val_accuracy: 0.4234\n"
          ],
          "name": "stdout"
        },
        {
          "output_type": "execute_result",
          "data": {
            "text/plain": [
              "<tensorflow.python.keras.callbacks.History at 0x7f2cc7c7f9e8>"
            ]
          },
          "metadata": {
            "tags": []
          },
          "execution_count": 53
        }
      ]
    },
    {
      "cell_type": "code",
      "metadata": {
        "id": "eCJXqUXtLQ2O",
        "colab_type": "code",
        "colab": {}
      },
      "source": [
        ""
      ],
      "execution_count": 0,
      "outputs": []
    }
  ]
}